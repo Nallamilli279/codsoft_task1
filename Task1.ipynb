{
 "cells": [
  {
   "cell_type": "markdown",
   "id": "d581448c",
   "metadata": {},
   "source": [
    "# MOVIE GENRE CLASSIFICATION"
   ]
  },
  {
   "cell_type": "code",
   "execution_count": 1,
   "id": "34da1bb1",
   "metadata": {},
   "outputs": [],
   "source": [
    "import pandas as pd\n",
    "import re\n",
    "from sklearn.feature_extraction.text import TfidfVectorizer\n",
    "from sklearn.naive_bayes import MultinomialNB\n",
    "from sklearn.svm import SVC\n",
    "from sklearn.linear_model import LogisticRegression\n",
    "from sklearn.metrics import accuracy_score, classification_report"
   ]
  },
  {
   "cell_type": "markdown",
   "id": "281c1dde",
   "metadata": {},
   "source": [
    "# Reading the data"
   ]
  },
  {
   "cell_type": "code",
   "execution_count": 2,
   "id": "2b12aeb1",
   "metadata": {},
   "outputs": [
    {
     "name": "stdout",
     "output_type": "stream",
     "text": [
      "Training data:\n",
      "       genre                                               plot\n",
      "0     drama  Listening in to a conversation between his doc...\n",
      "1  thriller  A brother and sister with a past incestuous re...\n",
      "2     adult  As the bus empties the students for their fiel...\n",
      "3     drama  To help their unemployed father make ends meet...\n",
      "4     drama  The film's title refers not only to the un-rec...\n",
      "Test data:\n",
      "          genre                                               plot\n",
      "0     thriller  L.R. Brane loves his life - his car, his apart...\n",
      "1       comedy  Spain, March 1964: Quico is a very naughty chi...\n",
      "2  documentary  One year in the life of Albin and his family o...\n",
      "3        drama  His father has died, he hasn't spoken with his...\n",
      "4        drama  Before he was known internationally as a marti...\n"
     ]
    }
   ],
   "source": [
    "# Read and parse the data\n",
    "def read_data(file_path):\n",
    "    data = []\n",
    "    with open(file_path, 'r') as file:\n",
    "        for line in file:\n",
    "            parts = line.strip().split(' ::: ')\n",
    "            if len(parts) == 4:\n",
    "                data.append((parts[2], parts[3]))  # (genre, plot summary)\n",
    "    return pd.DataFrame(data, columns=['genre', 'plot'])\n",
    "\n",
    "train_data = read_data('train_data.txt')\n",
    "test_data = read_data('test_data_solution.txt')\n",
    "\n",
    "# Check if data is read correctly\n",
    "print(\"Training data:\\n\", train_data.head())\n",
    "print(\"Test data:\\n\", test_data.head())"
   ]
  },
  {
   "cell_type": "markdown",
   "id": "fabc8ed0",
   "metadata": {},
   "source": [
    "# Cleaning the data"
   ]
  },
  {
   "cell_type": "code",
   "execution_count": 3,
   "id": "7fe4ae5a",
   "metadata": {},
   "outputs": [
    {
     "name": "stdout",
     "output_type": "stream",
     "text": [
      "Cleaned training data:\n",
      " 0    listening in to a conversation between his doc...\n",
      "1    a brother and sister with a past incestuous re...\n",
      "2    as the bus empties the students for their fiel...\n",
      "3    to help their unemployed father make ends meet...\n",
      "4    the films title refers not only to the unrecov...\n",
      "Name: plot, dtype: object\n",
      "Cleaned test data:\n",
      " 0    lr brane loves his life  his car his apartment...\n",
      "1    spain march  quico is a very naughty child of ...\n",
      "2    one year in the life of albin and his family o...\n",
      "3    his father has died he hasnt spoken with his b...\n",
      "4    before he was known internationally as a marti...\n",
      "Name: plot, dtype: object\n"
     ]
    }
   ],
   "source": [
    "# Clean the text data\n",
    "def clean_text(text):\n",
    "    text = re.sub(r'[^a-zA-Z\\s]', '', text, re.I | re.A)\n",
    "    text = text.lower()\n",
    "    text = text.strip()\n",
    "    return text\n",
    "\n",
    "train_data['plot'] = train_data['plot'].apply(clean_text)\n",
    "test_data['plot'] = test_data['plot'].apply(clean_text)\n",
    "\n",
    "# Check if text cleaning worked\n",
    "print(\"Cleaned training data:\\n\", train_data['plot'].head())\n",
    "print(\"Cleaned test data:\\n\", test_data['plot'].head())"
   ]
  },
  {
   "cell_type": "markdown",
   "id": "dfcbce54",
   "metadata": {},
   "source": [
    "# VECTORIZING TEXT USING TF-IDF"
   ]
  },
  {
   "cell_type": "code",
   "execution_count": 4,
   "id": "dd6f785b",
   "metadata": {},
   "outputs": [
    {
     "name": "stdout",
     "output_type": "stream",
     "text": [
      "Vectorized training data shape: (54214, 5000)\n",
      "Vectorized test data shape: (54200, 5000)\n"
     ]
    }
   ],
   "source": [
    "# Vectorize the text data using TF-IDF\n",
    "vectorizer = TfidfVectorizer(stop_words='english', max_features=5000)\n",
    "X_train = vectorizer.fit_transform(train_data['plot'])\n",
    "X_test = vectorizer.transform(test_data['plot'])\n",
    "\n",
    "y_train = train_data['genre']\n",
    "y_test = test_data['genre']\n",
    "\n",
    "# Check if vectorization worked\n",
    "print(\"Vectorized training data shape:\", X_train.shape)\n",
    "print(\"Vectorized test data shape:\", X_test.shape)"
   ]
  },
  {
   "cell_type": "markdown",
   "id": "df5f13ab",
   "metadata": {},
   "source": [
    "# Naive Bayes"
   ]
  },
  {
   "cell_type": "code",
   "execution_count": 5,
   "id": "400ef7f8",
   "metadata": {},
   "outputs": [
    {
     "name": "stdout",
     "output_type": "stream",
     "text": [
      "Naive Bayes Classifier Accuracy: 0.5245940959409594\n",
      "Naive Bayes Classifier Report:\n",
      "               precision    recall  f1-score   support\n",
      "\n",
      "      action       0.57      0.11      0.18      1314\n",
      "       adult       0.52      0.07      0.12       590\n",
      "   adventure       0.74      0.08      0.14       775\n",
      "   animation       0.00      0.00      0.00       498\n",
      "   biography       0.00      0.00      0.00       264\n",
      "      comedy       0.52      0.43      0.47      7446\n",
      "       crime       0.00      0.00      0.00       505\n",
      " documentary       0.57      0.87      0.69     13096\n",
      "       drama       0.46      0.82      0.59     13612\n",
      "      family       0.67      0.00      0.01       783\n",
      "     fantasy       0.00      0.00      0.00       322\n",
      "   game-show       0.97      0.33      0.49       193\n",
      "     history       0.00      0.00      0.00       243\n",
      "      horror       0.69      0.36      0.48      2204\n",
      "       music       0.75      0.15      0.25       731\n",
      "     musical       0.00      0.00      0.00       276\n",
      "     mystery       0.00      0.00      0.00       318\n",
      "        news       0.00      0.00      0.00       181\n",
      "  reality-tv       0.61      0.03      0.05       883\n",
      "     romance       0.00      0.00      0.00       672\n",
      "      sci-fi       0.55      0.04      0.08       646\n",
      "       short       0.58      0.12      0.20      5072\n",
      "       sport       0.80      0.10      0.18       431\n",
      "   talk-show       1.00      0.00      0.01       391\n",
      "    thriller       0.31      0.02      0.03      1590\n",
      "         war       0.00      0.00      0.00       132\n",
      "     western       0.95      0.63      0.76      1032\n",
      "\n",
      "    accuracy                           0.52     54200\n",
      "   macro avg       0.42      0.15      0.17     54200\n",
      "weighted avg       0.52      0.52      0.45     54200\n",
      "\n"
     ]
    }
   ],
   "source": [
    "# Train and evaluate a Naive Bayes classifier\n",
    "nb_model = MultinomialNB()\n",
    "nb_model.fit(X_train, y_train)\n",
    "y_pred_nb = nb_model.predict(X_test)\n",
    "accuracy_nb = accuracy_score(y_test, y_pred_nb)\n",
    "report_nb = classification_report(y_test, y_pred_nb, zero_division=0)\n",
    "\n",
    "print(\"Naive Bayes Classifier Accuracy:\", accuracy_nb)\n",
    "print(\"Naive Bayes Classifier Report:\\n\", report_nb)"
   ]
  },
  {
   "cell_type": "markdown",
   "id": "ec175c26",
   "metadata": {},
   "source": [
    "# Logistic regression"
   ]
  },
  {
   "cell_type": "code",
   "execution_count": 6,
   "id": "37d6c9e5",
   "metadata": {},
   "outputs": [
    {
     "name": "stdout",
     "output_type": "stream",
     "text": [
      "Logistic Regression Classifier Accuracy: 0.5827675276752767\n",
      "Logistic Regression Classifier Report:\n",
      "               precision    recall  f1-score   support\n",
      "\n",
      "      action       0.48      0.29      0.36      1314\n",
      "       adult       0.59      0.23      0.33       590\n",
      "   adventure       0.57      0.16      0.26       775\n",
      "   animation       0.47      0.06      0.11       498\n",
      "   biography       0.00      0.00      0.00       264\n",
      "      comedy       0.53      0.58      0.55      7446\n",
      "       crime       0.37      0.04      0.07       505\n",
      " documentary       0.67      0.85      0.75     13096\n",
      "       drama       0.54      0.77      0.64     13612\n",
      "      family       0.50      0.09      0.15       783\n",
      "     fantasy       0.56      0.06      0.10       322\n",
      "   game-show       0.91      0.51      0.66       193\n",
      "     history       0.00      0.00      0.00       243\n",
      "      horror       0.64      0.57      0.60      2204\n",
      "       music       0.68      0.45      0.54       731\n",
      "     musical       0.24      0.02      0.03       276\n",
      "     mystery       0.30      0.01      0.02       318\n",
      "        news       0.75      0.07      0.12       181\n",
      "  reality-tv       0.52      0.18      0.27       883\n",
      "     romance       0.35      0.03      0.05       672\n",
      "      sci-fi       0.54      0.26      0.35       646\n",
      "       short       0.47      0.34      0.39      5072\n",
      "       sport       0.62      0.26      0.36       431\n",
      "   talk-show       0.59      0.15      0.24       391\n",
      "    thriller       0.38      0.13      0.20      1590\n",
      "         war       1.00      0.02      0.04       132\n",
      "     western       0.90      0.73      0.80      1032\n",
      "\n",
      "    accuracy                           0.58     54200\n",
      "   macro avg       0.52      0.25      0.30     54200\n",
      "weighted avg       0.56      0.58      0.54     54200\n",
      "\n"
     ]
    }
   ],
   "source": [
    "# Train and evaluate a Logistic Regression classifier\n",
    "lr_model = LogisticRegression(max_iter=10000)\n",
    "lr_model.fit(X_train, y_train)\n",
    "y_pred_lr = lr_model.predict(X_test)\n",
    "accuracy_lr = accuracy_score(y_test, y_pred_lr)\n",
    "report_lr = classification_report(y_test, y_pred_lr, zero_division=0)\n",
    "\n",
    "print(\"Logistic Regression Classifier Accuracy:\", accuracy_lr)\n",
    "print(\"Logistic Regression Classifier Report:\\n\", report_lr)"
   ]
  },
  {
   "cell_type": "code",
   "execution_count": null,
   "id": "eb4a8883",
   "metadata": {},
   "outputs": [],
   "source": []
  }
 ],
 "metadata": {
  "kernelspec": {
   "display_name": "Python 3 (ipykernel)",
   "language": "python",
   "name": "python3"
  },
  "language_info": {
   "codemirror_mode": {
    "name": "ipython",
    "version": 3
   },
   "file_extension": ".py",
   "mimetype": "text/x-python",
   "name": "python",
   "nbconvert_exporter": "python",
   "pygments_lexer": "ipython3",
   "version": "3.11.3"
  }
 },
 "nbformat": 4,
 "nbformat_minor": 5
}
